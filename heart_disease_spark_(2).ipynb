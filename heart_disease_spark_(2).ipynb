{
  "cells": [
    {
      "cell_type": "code",
      "execution_count": null,
      "metadata": {
        "colab": {
          "base_uri": "https://localhost:8080/"
        },
        "id": "a_KW73O2e3dw",
        "outputId": "f34ce1e9-af55-4904-d949-9cb40ad348ef"
      },
      "outputs": [
        {
          "output_type": "stream",
          "name": "stdout",
          "text": [
            "\r0% [Working]\r            \rGet:1 http://security.ubuntu.com/ubuntu focal-security InRelease [114 kB]\n",
            "\r0% [Connecting to archive.ubuntu.com] [1 InRelease 14.2 kB/114 kB 12%] [Connect\r                                                                               \rHit:2 https://developer.download.nvidia.com/compute/cuda/repos/ubuntu2004/x86_64  InRelease\n",
            "\r0% [Waiting for headers] [1 InRelease 82.2 kB/114 kB 72%] [Waiting for headers]\r                                                                               \rHit:3 http://archive.ubuntu.com/ubuntu focal InRelease\n",
            "\r0% [Waiting for headers] [1 InRelease 88.0 kB/114 kB 77%] [Waiting for headers]\r0% [Waiting for headers] [Waiting for headers] [Connecting to ppa.launchpad.net\r                                                                               \rGet:4 http://archive.ubuntu.com/ubuntu focal-updates InRelease [114 kB]\n",
            "\r0% [4 InRelease 12.7 kB/114 kB 11%] [Waiting for headers] [Waiting for headers]\r                                                                               \rGet:5 https://cloud.r-project.org/bin/linux/ubuntu focal-cran40/ InRelease [3,622 B]\n",
            "Hit:6 http://ppa.launchpad.net/c2d4u.team/c2d4u4.0+/ubuntu focal InRelease\n",
            "Get:7 http://archive.ubuntu.com/ubuntu focal-backports InRelease [108 kB]\n",
            "Hit:8 http://ppa.launchpad.net/cran/libgit2/ubuntu focal InRelease\n",
            "Hit:9 http://ppa.launchpad.net/deadsnakes/ppa/ubuntu focal InRelease\n",
            "Hit:10 http://ppa.launchpad.net/graphics-drivers/ppa/ubuntu focal InRelease\n",
            "Hit:11 http://ppa.launchpad.net/ubuntugis/ppa/ubuntu focal InRelease\n",
            "Get:12 http://security.ubuntu.com/ubuntu focal-security/universe amd64 Packages [1,058 kB]\n",
            "Get:13 http://security.ubuntu.com/ubuntu focal-security/main amd64 Packages [2,776 kB]\n",
            "Get:14 http://archive.ubuntu.com/ubuntu focal-updates/universe amd64 Packages [1,354 kB]\n",
            "Get:15 http://archive.ubuntu.com/ubuntu focal-updates/main amd64 Packages [3,255 kB]\n",
            "Fetched 8,783 kB in 3s (3,345 kB/s)\n",
            "Reading package lists... Done\n"
          ]
        }
      ],
      "source": [
        "import os\n",
        "# Find the latest version of spark 3.x  from http://www.apache.org/dist/spark/ and enter as the spark version\n",
        "# For example:\n",
        "# spark_version = 'spark-3.3.1'\n",
        "spark_version = 'spark-3.4.0'\n",
        "os.environ['SPARK_VERSION']=spark_version\n",
        "\n",
        "# Install Spark and Java\n",
        "!apt-get update\n",
        "!apt-get install openjdk-11-jdk-headless -qq > /dev/null\n",
        "!wget -q http://www.apache.org/dist/spark/$SPARK_VERSION/$SPARK_VERSION-bin-hadoop3.tgz\n",
        "!tar xf $SPARK_VERSION-bin-hadoop3.tgz\n",
        "!pip install -q findspark\n",
        "\n",
        "# Set Environment Variables\n",
        "os.environ[\"JAVA_HOME\"] = \"/usr/lib/jvm/java-11-openjdk-amd64\"\n",
        "os.environ[\"SPARK_HOME\"] = f\"/content/{spark_version}-bin-hadoop3\"\n",
        "\n",
        "# Start a SparkSession\n",
        "import findspark\n",
        "findspark.init()\n",
        "\n",
        "from pyspark.sql.functions import to_date"
      ]
    },
    {
      "cell_type": "code",
      "execution_count": null,
      "metadata": {
        "id": "2XbWNf1Te5fM"
      },
      "outputs": [],
      "source": [
        "# Import packages\n",
        "from pyspark.sql import SparkSession\n",
        "#import time\n",
        "\n",
        "# Create a SparkSession\n",
        "spark = SparkSession.builder.appName(\"SparkSQL\").getOrCreate()"
      ]
    },
    {
      "cell_type": "code",
      "execution_count": null,
      "metadata": {
        "colab": {
          "base_uri": "https://localhost:8080/"
        },
        "id": "9EeISndZ48gr",
        "outputId": "edeae24b-bd34-407d-e361-2aaf4a223700"
      },
      "outputs": [
        {
          "output_type": "stream",
          "name": "stdout",
          "text": [
            "Current directory: /content\n",
            "Files in the directory: ['.config', 'spark-3.4.0-bin-hadoop3.tgz', 'spark-3.4.0-bin-hadoop3', 'heart_2020_cleaned.csv', 'sample_data']\n"
          ]
        }
      ],
      "source": [
        "import os\n",
        "\n",
        "# Get the current working directory\n",
        "current_dir = os.getcwd()\n",
        "print(\"Current directory:\", current_dir)\n",
        "\n",
        "# List the files in the current directory\n",
        "file_list = os.listdir(current_dir)\n",
        "print(\"Files in the directory:\", file_list)\n",
        "\n"
      ]
    },
    {
      "cell_type": "code",
      "execution_count": null,
      "metadata": {
        "colab": {
          "base_uri": "https://localhost:8080/"
        },
        "id": "wOJqxG_RPSwp",
        "outputId": "93aad120-6752-4710-f07a-a32041b2f30e",
        "scrolled": true
      },
      "outputs": [
        {
          "output_type": "stream",
          "name": "stdout",
          "text": [
            "+------------+-----+-------+---------------+------+--------------+------------+-----------+------+-----------+-----+--------------------+----------------+---------+---------+------+-------------+----------+\n",
            "|HeartDisease|  BMI|Smoking|AlcoholDrinking|Stroke|PhysicalHealth|MentalHealth|DiffWalking|   Sex|AgeCategory| Race|            Diabetic|PhysicalActivity|GenHealth|SleepTime|Asthma|KidneyDisease|SkinCancer|\n",
            "+------------+-----+-------+---------------+------+--------------+------------+-----------+------+-----------+-----+--------------------+----------------+---------+---------+------+-------------+----------+\n",
            "|          No| 16.6|    Yes|             No|    No|           3.0|        30.0|         No|Female|      55-59|White|                 Yes|             Yes|Very good|      5.0|   Yes|           No|       Yes|\n",
            "|          No|20.34|     No|             No|   Yes|           0.0|         0.0|         No|Female|80 or older|White|                  No|             Yes|Very good|      7.0|    No|           No|        No|\n",
            "|          No|26.58|    Yes|             No|    No|          20.0|        30.0|         No|  Male|      65-69|White|                 Yes|             Yes|     Fair|      8.0|   Yes|           No|        No|\n",
            "|          No|24.21|     No|             No|    No|           0.0|         0.0|         No|Female|      75-79|White|                  No|              No|     Good|      6.0|    No|           No|       Yes|\n",
            "|          No|23.71|     No|             No|    No|          28.0|         0.0|        Yes|Female|      40-44|White|                  No|             Yes|Very good|      8.0|    No|           No|        No|\n",
            "|         Yes|28.87|    Yes|             No|    No|           6.0|         0.0|        Yes|Female|      75-79|Black|                  No|              No|     Fair|     12.0|    No|           No|        No|\n",
            "|          No|21.63|     No|             No|    No|          15.0|         0.0|         No|Female|      70-74|White|                  No|             Yes|     Fair|      4.0|   Yes|           No|       Yes|\n",
            "|          No|31.64|    Yes|             No|    No|           5.0|         0.0|        Yes|Female|80 or older|White|                 Yes|              No|     Good|      9.0|   Yes|           No|        No|\n",
            "|          No|26.45|     No|             No|    No|           0.0|         0.0|         No|Female|80 or older|White|No, borderline di...|              No|     Fair|      5.0|    No|          Yes|        No|\n",
            "|          No|40.69|     No|             No|    No|           0.0|         0.0|        Yes|  Male|      65-69|White|                  No|             Yes|     Good|     10.0|    No|           No|        No|\n",
            "|         Yes| 34.3|    Yes|             No|    No|          30.0|         0.0|        Yes|  Male|      60-64|White|                 Yes|              No|     Poor|     15.0|   Yes|           No|        No|\n",
            "|          No|28.71|    Yes|             No|    No|           0.0|         0.0|         No|Female|      55-59|White|                  No|             Yes|Very good|      5.0|    No|           No|        No|\n",
            "|          No|28.37|    Yes|             No|    No|           0.0|         0.0|        Yes|  Male|      75-79|White|                 Yes|             Yes|Very good|      8.0|    No|           No|        No|\n",
            "|          No|28.15|     No|             No|    No|           7.0|         0.0|        Yes|Female|80 or older|White|                  No|              No|     Good|      7.0|    No|           No|        No|\n",
            "|          No|29.29|    Yes|             No|    No|           0.0|        30.0|        Yes|Female|      60-64|White|                  No|              No|     Good|      5.0|    No|           No|        No|\n",
            "|          No|29.18|     No|             No|    No|           1.0|         0.0|         No|Female|      50-54|White|                  No|             Yes|Very good|      6.0|    No|           No|        No|\n",
            "|          No|26.26|     No|             No|    No|           5.0|         2.0|         No|Female|      70-74|White|                  No|              No|Very good|     10.0|    No|           No|        No|\n",
            "|          No|22.59|    Yes|             No|    No|           0.0|        30.0|        Yes|  Male|      70-74|White|No, borderline di...|             Yes|     Good|      8.0|    No|           No|        No|\n",
            "|          No|29.86|    Yes|             No|    No|           0.0|         0.0|        Yes|Female|      75-79|Black|                 Yes|              No|     Fair|      5.0|    No|          Yes|        No|\n",
            "|          No|18.13|     No|             No|    No|           0.0|         0.0|         No|  Male|80 or older|White|                  No|             Yes|Excellent|      8.0|    No|           No|       Yes|\n",
            "+------------+-----+-------+---------------+------+--------------+------------+-----------+------+-----------+-----+--------------------+----------------+---------+---------+------+-------------+----------+\n",
            "only showing top 20 rows\n",
            "\n"
          ]
        }
      ],
      "source": [
        "from pyspark.sql import SparkSession\n",
        "\n",
        "# Create a SparkSession\n",
        "spark = SparkSession.builder.getOrCreate()\n",
        "\n",
        "# Read the CSV file into a Spark DataFrame\n",
        "df = spark.read.csv(\"heart_2020_cleaned.csv\", header=True, inferSchema=True)\n",
        "\n",
        "# Show the Spark DataFrame\n",
        "df.show()\n",
        "\n"
      ]
    },
    {
      "cell_type": "code",
      "execution_count": null,
      "metadata": {
        "colab": {
          "base_uri": "https://localhost:8080/"
        },
        "id": "kWG8juvwvCe-",
        "outputId": "86d0fde5-ab1d-45b8-b2c2-708847c2466a"
      },
      "outputs": [
        {
          "output_type": "stream",
          "name": "stdout",
          "text": [
            "root\n",
            " |-- HeartDisease: string (nullable = true)\n",
            " |-- BMI: double (nullable = true)\n",
            " |-- Smoking: string (nullable = true)\n",
            " |-- AlcoholDrinking: string (nullable = true)\n",
            " |-- Stroke: string (nullable = true)\n",
            " |-- PhysicalHealth: double (nullable = true)\n",
            " |-- MentalHealth: double (nullable = true)\n",
            " |-- DiffWalking: string (nullable = true)\n",
            " |-- Sex: string (nullable = true)\n",
            " |-- AgeCategory: string (nullable = true)\n",
            " |-- Race: string (nullable = true)\n",
            " |-- Diabetic: string (nullable = true)\n",
            " |-- PhysicalActivity: string (nullable = true)\n",
            " |-- GenHealth: string (nullable = true)\n",
            " |-- SleepTime: double (nullable = true)\n",
            " |-- Asthma: string (nullable = true)\n",
            " |-- KidneyDisease: string (nullable = true)\n",
            " |-- SkinCancer: string (nullable = true)\n",
            "\n"
          ]
        }
      ],
      "source": [
        "df.printSchema()\n"
      ]
    },
    {
      "cell_type": "code",
      "execution_count": null,
      "metadata": {
        "id": "aurohSCAaZwK"
      },
      "outputs": [],
      "source": [
        "# 2. Create a temporary view of the DataFrame.\n",
        "df.createOrReplaceTempView('heart_disease')"
      ]
    },
    {
      "cell_type": "code",
      "execution_count": null,
      "metadata": {
        "colab": {
          "base_uri": "https://localhost:8080/"
        },
        "id": "L6fkwOeOmqvq",
        "outputId": "f0b5d945-8d92-40ab-f0f2-6f842771826b",
        "scrolled": true
      },
      "outputs": [
        {
          "output_type": "stream",
          "name": "stdout",
          "text": [
            "+------------+----------+---------------+----------------------+\n",
            "|HeartDisease|SkinCancer|SkinCancerCount|AverageSkinCancerCount|\n",
            "+------------+----------+---------------+----------------------+\n",
            "|         Yes|       Yes|           3975|                   1.0|\n",
            "|          No|        No|         211392|                   0.0|\n",
            "|         Yes|        No|          17765|                   0.0|\n",
            "|          No|       Yes|          19804|                   1.0|\n",
            "+------------+----------+---------------+----------------------+\n",
            "\n"
          ]
        }
      ],
      "source": [
        "# calculate the average skin cancer cases per positive heart disease cases\n",
        "# Create a SparkSession\n",
        "spark = SparkSession.builder.getOrCreate()\n",
        "\n",
        "# Read the CSV file into a Spark DataFrame\n",
        "df = spark.read.csv(\"heart_2020_cleaned.csv\", header=True, inferSchema=True)\n",
        "\n",
        "# Write the SQL query\n",
        "avg_df = \"\"\"\n",
        "SELECT\n",
        "  HeartDisease AS HeartDisease,\n",
        "  SkinCancer AS SkinCancer,\n",
        "  COUNT(CASE WHEN SkinCancer = 'Yes' THEN 1 ELSE 0 END) AS SkinCancerCount,\n",
        "  AVG(CASE WHEN SkinCancer = 'Yes' THEN 1 ELSE 0 END) AS AverageSkinCancerCount\n",
        "FROM heart_disease\n",
        "GROUP BY HeartDisease, SkinCancer\n",
        "\"\"\"\n",
        "\n",
        "# Execute the SQL query and show the result\n",
        "spark.sql(avg_df).show()\n"
      ]
    },
    {
      "cell_type": "code",
      "source": [],
      "metadata": {
        "id": "IBPMPxiweG5s"
      },
      "execution_count": null,
      "outputs": []
    },
    {
      "cell_type": "markdown",
      "metadata": {
        "id": "RdcN8InSeheJ"
      },
      "source": [
        "SkinCancer 1.56% total.  18.19% of Heart disease patients have skin cancer."
      ]
    },
    {
      "cell_type": "code",
      "execution_count": null,
      "metadata": {
        "colab": {
          "base_uri": "https://localhost:8080/"
        },
        "id": "l8p_tUS8h8it",
        "outputId": "3658c3ed-4956-456b-d1b2-c940d12094a5"
      },
      "outputs": [
        {
          "name": "stdout",
          "output_type": "stream",
          "text": [
            "+------------+--------------------+-------------+--------------------+\n",
            "|HeartDisease|            Diabetic|DiabeticCount|AverageDiabeticCount|\n",
            "+------------+--------------------+-------------+--------------------+\n",
            "|         Yes|                 Yes|         8957|                 1.0|\n",
            "|          No|Yes (during pregn...|         2451|                 0.0|\n",
            "|          No|                  No|       252134|                 0.0|\n",
            "|         Yes|Yes (during pregn...|          108|                 0.0|\n",
            "|         Yes|                  No|        17519|                 0.0|\n",
            "|          No|No, borderline di...|         5992|                 0.0|\n",
            "|          No|                 Yes|        31845|                 1.0|\n",
            "|         Yes|No, borderline di...|          789|                 0.0|\n",
            "+------------+--------------------+-------------+--------------------+\n",
            "\n"
          ]
        }
      ],
      "source": [
        "# calculate the average skin cancer cases per positive heart disease cases\n",
        "\n",
        "# Write the SQL query\n",
        "avg_df_2 = \"\"\"\n",
        "SELECT\n",
        "  HeartDisease AS HeartDisease,\n",
        "  Diabetic AS Diabetic,\n",
        "  COUNT(CASE WHEN Diabetic = 'Yes' THEN 1 ELSE 0 END) AS DiabeticCount,\n",
        "  AVG(CASE WHEN Diabetic = 'Yes' THEN 1 ELSE 0 END) AS AverageDiabeticCount\n",
        "FROM heart_disease\n",
        "GROUP BY HeartDisease, Diabetic\n",
        "\"\"\"\n",
        "\n",
        "# Execute the SQL query and show the result\n",
        "spark.sql(avg_df_2).show()\n"
      ]
    },
    {
      "cell_type": "markdown",
      "metadata": {
        "id": "FXkZWE5xeRYZ"
      },
      "source": [
        "Diabetic 2.85% total.  33.12% of Heart Disease patients have Diabetes"
      ]
    },
    {
      "cell_type": "code",
      "execution_count": null,
      "metadata": {
        "colab": {
          "base_uri": "https://localhost:8080/"
        },
        "id": "Y-Eytz64liDU",
        "outputId": "cfd3b3ad-3485-449f-85b6-35add79a16a2"
      },
      "outputs": [
        {
          "name": "stdout",
          "output_type": "stream",
          "text": [
            "+------------+-------------+------------------+-------------------------+\n",
            "|HeartDisease|KidneyDisease|KidneyDiseaseCount|AverageKidneyDiseaseCount|\n",
            "+------------+-------------+------------------+-------------------------+\n",
            "|         Yes|          Yes|              3455|                      1.0|\n",
            "|          No|           No|            284098|                      0.0|\n",
            "|         Yes|           No|             23918|                      0.0|\n",
            "|          No|          Yes|              8324|                      1.0|\n",
            "+------------+-------------+------------------+-------------------------+\n",
            "\n"
          ]
        }
      ],
      "source": [
        "# calculate the average skin cancer cases per positive heart disease cases\n",
        "# Write the SQL query\n",
        "avg_df_3 = \"\"\"\n",
        "SELECT\n",
        "  HeartDisease AS HeartDisease,\n",
        "  KidneyDisease AS KidneyDisease,\n",
        "  COUNT(CASE WHEN KidneyDisease = 'Yes' THEN 1 ELSE 0 END) AS KidneyDiseaseCount,\n",
        "  AVG(CASE WHEN KidneyDisease = 'Yes' THEN 1 ELSE 0 END) AS AverageKidneyDiseaseCount\n",
        "FROM heart_disease\n",
        "GROUP BY HeartDisease, KidneyDisease\n",
        "\"\"\"\n",
        "\n",
        "# Execute the SQL query and show the result\n",
        "spark.sql(avg_df_3).show()"
      ]
    },
    {
      "cell_type": "markdown",
      "metadata": {
        "id": "ZV6GC3nSdgib"
      },
      "source": [
        "KidneyDisease 1.08% total.  12.62% of Heart Disaease patients have Kidney Disease"
      ]
    },
    {
      "cell_type": "code",
      "execution_count": null,
      "metadata": {
        "colab": {
          "base_uri": "https://localhost:8080/"
        },
        "id": "GUrfgOX1pCRd",
        "outputId": "0f12772a-6e99-4848-c6c6-ba28dbb2b999"
      },
      "outputs": [
        {
          "name": "stdout",
          "output_type": "stream",
          "text": [
            "+------------+------+------------+------------------+\n",
            "|HeartDisease|Asthma|AsthmaeCount|AverageAsthmaCount|\n",
            "+------------+------+------------+------------------+\n",
            "|         Yes|   Yes|        4933|               1.0|\n",
            "|          No|    No|      254483|               0.0|\n",
            "|         Yes|    No|       22440|               0.0|\n",
            "|          No|   Yes|       37939|               1.0|\n",
            "+------------+------+------------+------------------+\n",
            "\n"
          ]
        }
      ],
      "source": [
        "# calculate the average skin cancer cases per positive heart disease cases\n",
        "# Write the SQL query\n",
        "avg_df_4 = \"\"\"\n",
        "SELECT\n",
        "  HeartDisease AS HeartDisease,\n",
        "  Asthma AS Asthma,\n",
        "  COUNT(CASE WHEN Asthma = 'Yes' THEN 1 ELSE 0 END) AS AsthmaeCount,\n",
        "  AVG(CASE WHEN Asthma = 'Yes' THEN 1 ELSE 0 END) AS AverageAsthmaCount\n",
        "FROM heart_disease\n",
        "GROUP BY HeartDisease, Asthma\n",
        "\"\"\"\n",
        "\n",
        "# Execute the SQL query and show the result\n",
        "spark.sql(avg_df_4).show()"
      ]
    },
    {
      "cell_type": "markdown",
      "metadata": {
        "id": "sFkuwiCfdSe2"
      },
      "source": [
        "Asthma 1.54% total.  18.02% Of Heart Disease patients have Asthma"
      ]
    },
    {
      "cell_type": "code",
      "execution_count": null,
      "metadata": {
        "colab": {
          "base_uri": "https://localhost:8080/"
        },
        "id": "dGSYZJtncHeo",
        "outputId": "b96d0e85-d7d6-47f6-cc7f-1aa92644def7"
      },
      "outputs": [
        {
          "name": "stdout",
          "output_type": "stream",
          "text": [
            "+------------+-------+------------+-------------------+\n",
            "|HeartDisease|Smoking|SmokingCount|AverageSmokingCount|\n",
            "+------------+-------+------------+-------------------+\n",
            "|         Yes|    Yes|       16037|                1.0|\n",
            "|          No|     No|      176551|                0.0|\n",
            "|         Yes|     No|       11336|                0.0|\n",
            "|          No|    Yes|      115871|                1.0|\n",
            "+------------+-------+------------+-------------------+\n",
            "\n"
          ]
        }
      ],
      "source": [
        "#Smoking\n",
        "# Write the SQL query\n",
        "avg_df_5 = \"\"\"\n",
        "SELECT\n",
        "  HeartDisease AS HeartDisease,\n",
        "  Smoking AS Smoking,\n",
        "  COUNT(CASE WHEN Smoking = 'Yes' THEN 1 ELSE 0 END) AS SmokingCount,\n",
        "  AVG(CASE WHEN Smoking = 'Yes' THEN 1 ELSE 0 END) AS AverageSmokingCount\n",
        "FROM heart_disease\n",
        "GROUP BY HeartDisease, Smoking\n",
        "\"\"\"\n",
        "\n",
        "# Execute the SQL query and show the result\n",
        "spark.sql(avg_df_5).show()"
      ]
    },
    {
      "cell_type": "markdown",
      "metadata": {
        "id": "uGXi9Eh4dH8m"
      },
      "source": [
        "smoking 5.01% total 58.59% of Heart Disease patients smoke"
      ]
    },
    {
      "cell_type": "code",
      "execution_count": null,
      "metadata": {
        "colab": {
          "base_uri": "https://localhost:8080/"
        },
        "id": "kmWKaoe8dDxI",
        "outputId": "011665bc-096d-46be-9590-aa9a3cb1d874"
      },
      "outputs": [
        {
          "name": "stdout",
          "output_type": "stream",
          "text": [
            "+------------+---------------+--------------------+---------------------------+\n",
            "|HeartDisease|AlcoholDrinking|AlcoholDrinkingCount|AverageAlcoholDrinkingCount|\n",
            "+------------+---------------+--------------------+---------------------------+\n",
            "|         Yes|            Yes|                1141|                        1.0|\n",
            "|          No|             No|              271786|                        0.0|\n",
            "|         Yes|             No|               26232|                        0.0|\n",
            "|          No|            Yes|               20636|                        1.0|\n",
            "+------------+---------------+--------------------+---------------------------+\n",
            "\n"
          ]
        }
      ],
      "source": [
        "#AlcoholDrinking\n",
        "# Write the SQL query\n",
        "avg_df_6 = \"\"\"\n",
        "SELECT\n",
        "  HeartDisease AS HeartDisease,\n",
        "  AlcoholDrinking AS AlcoholDrinking,\n",
        "  COUNT(CASE WHEN AlcoholDrinking = 'Yes' THEN 1 ELSE 0 END) AS AlcoholDrinkingCount,\n",
        "  AVG(CASE WHEN AlcoholDrinking = 'Yes' THEN 1 ELSE 0 END) AS AverageAlcoholDrinkingCount\n",
        "FROM heart_disease\n",
        "GROUP BY HeartDisease, AlcoholDrinking\n",
        "\"\"\"\n",
        "\n",
        "# Execute the SQL query and show the result\n",
        "spark.sql(avg_df_6).show()"
      ]
    },
    {
      "cell_type": "markdown",
      "metadata": {
        "id": "cxyVlMZdfMDm"
      },
      "source": [
        "AlcoholDrinking 0.357% total.  4.178% of Heart Disease patients drink alcohol"
      ]
    },
    {
      "cell_type": "code",
      "execution_count": null,
      "metadata": {
        "colab": {
          "base_uri": "https://localhost:8080/"
        },
        "id": "l1Gdh1ZPfTSu",
        "outputId": "eabdcce9-4283-4890-d249-c681b62d3fb9"
      },
      "outputs": [
        {
          "name": "stdout",
          "output_type": "stream",
          "text": [
            "+------------+-------+-----------+------------------+\n",
            "|HeartDisease|Strokeg|StrokeCount|AverageStrokeCount|\n",
            "+------------+-------+-----------+------------------+\n",
            "|         Yes|    Yes|       4389|               1.0|\n",
            "|          No|     No|     284742|               0.0|\n",
            "|         Yes|     No|      22984|               0.0|\n",
            "|          No|    Yes|       7680|               1.0|\n",
            "+------------+-------+-----------+------------------+\n",
            "\n"
          ]
        }
      ],
      "source": [
        "#Stroke\n",
        "# Write the SQL query\n",
        "avg_df_7 = \"\"\"\n",
        "SELECT\n",
        "  HeartDisease AS HeartDisease,\n",
        "  Stroke AS Stroke,\n",
        "  COUNT(CASE WHEN Stroke = 'Yes' THEN 1 ELSE 0 END) AS StrokeCount,\n",
        "  AVG(CASE WHEN Stroke = 'Yes' THEN 1 ELSE 0 END) AS AverageStrokeCount\n",
        "FROM heart_disease\n",
        "GROUP BY HeartDisease, Stroke\n",
        "\"\"\"\n",
        "\n",
        "# Execute the SQL query and show the result\n",
        "spark.sql(avg_df_7).show()"
      ]
    },
    {
      "cell_type": "markdown",
      "metadata": {
        "id": "bpZt6RJ1fqpz"
      },
      "source": [
        "Stroke 1.37% total.  16.03% of Heart Disease patients have had a stroke."
      ]
    },
    {
      "cell_type": "code",
      "execution_count": null,
      "metadata": {
        "colab": {
          "base_uri": "https://localhost:8080/"
        },
        "id": "MmaTsHtBfyW8",
        "outputId": "a0a67e2b-b0d9-415e-c46f-2ae86d1a92c7"
      },
      "outputs": [
        {
          "name": "stdout",
          "output_type": "stream",
          "text": [
            "+------------+-----------+----------------+-----------------------+\n",
            "|HeartDisease|DiffWalking|DiffWalkingCount|AverageDiffWalkingCount|\n",
            "+------------+-----------+----------------+-----------------------+\n",
            "|         Yes|        Yes|           10028|                    1.0|\n",
            "|          No|         No|          258040|                    0.0|\n",
            "|         Yes|         No|           17345|                    0.0|\n",
            "|          No|        Yes|           34382|                    1.0|\n",
            "+------------+-----------+----------------+-----------------------+\n",
            "\n"
          ]
        }
      ],
      "source": [
        "#DiffWalking\n",
        "# Write the SQL query\n",
        "avg_df_8 = \"\"\"\n",
        "SELECT\n",
        "  HeartDisease AS HeartDisease,\n",
        "  DiffWalking AS DiffWalking,\n",
        "  COUNT(CASE WHEN DiffWalking = 'Yes' THEN 1 ELSE 0 END) AS DiffWalkingCount,\n",
        "  AVG(CASE WHEN DiffWalking = 'Yes' THEN 1 ELSE 0 END) AS AverageDiffWalkingCount\n",
        "FROM heart_disease\n",
        "GROUP BY HeartDisease, DiffWalking\n",
        "\"\"\"\n",
        "\n",
        "# Execute the SQL query and show the result\n",
        "spark.sql(avg_df_8).show()"
      ]
    },
    {
      "cell_type": "markdown",
      "metadata": {
        "id": "-NBMKL7NgIMi"
      },
      "source": [
        "DiffWalking 3.14% total.  36.63% of Heart Disease patients have difficulting walking"
      ]
    },
    {
      "cell_type": "code",
      "source": [
        "# White men over 50\n",
        "# Write the SQL query\n",
        "avg_df_combined = \"\"\"\n",
        "SELECT\n",
        "  HeartDisease,\n",
        "  Sex AS Male,\n",
        "  COUNT(CASE WHEN Sex = 'Male' THEN 1 ELSE 0 END) AS MaleCount,\n",
        "  Race AS White,\n",
        "  COUNT(CASE WHEN Race = 'White' THEN 1 ELSE 0 END) AS RaceCount\n",
        "FROM heart_disease\n",
        "WHERE Sex = 'Male' AND AgeCategory IN ('55-59', '60-64', '65-69', '70-74', '75-79', '80 or older')\n",
        "GROUP BY HeartDisease, Sex, Race\n",
        "\n",
        "\n",
        "\"\"\"\n",
        "# Execute the SQL query and show the result\n",
        "spark.sql(avg_df_combined).show()\n"
      ],
      "metadata": {
        "id": "SE8dzCPVeb2V",
        "colab": {
          "base_uri": "https://localhost:8080/"
        },
        "outputId": "dc1bd317-0b0c-4274-b484-ecdaa8b76c78"
      },
      "execution_count": 17,
      "outputs": [
        {
          "output_type": "stream",
          "name": "stdout",
          "text": [
            "+------------+----+---------+--------------------+---------+\n",
            "|HeartDisease|Male|MaleCount|               White|RaceCount|\n",
            "+------------+----+---------+--------------------+---------+\n",
            "|         Yes|Male|      298|               Other|      298|\n",
            "|         Yes|Male|      118|               Asian|      118|\n",
            "|         Yes|Male|     9979|               White|     9979|\n",
            "|         Yes|Male|      509|               Black|      509|\n",
            "|          No|Male|     1949|            Hispanic|     1949|\n",
            "|          No|Male|      836|               Asian|      836|\n",
            "|          No|Male|     3380|               Black|     3380|\n",
            "|          No|Male|    43328|               White|    43328|\n",
            "|          No|Male|     1338|               Other|     1338|\n",
            "|          No|Male|      669|American Indian/A...|      669|\n",
            "|         Yes|Male|      328|            Hispanic|      328|\n",
            "|         Yes|Male|      156|American Indian/A...|      156|\n",
            "+------------+----+---------+--------------------+---------+\n",
            "\n"
          ]
        }
      ]
    },
    {
      "cell_type": "code",
      "execution_count": null,
      "metadata": {
        "colab": {
          "base_uri": "https://localhost:8080/"
        },
        "id": "Y9kUOxR-g0Qz",
        "outputId": "f6dc3cfa-0b2f-466f-ab37-817777e70b97"
      },
      "outputs": [
        {
          "name": "stdout",
          "output_type": "stream",
          "text": [
            "+------------+------------------+\n",
            "|HeartDisease|          BMICount|\n",
            "+------------+------------------+\n",
            "|         Yes|1640.1999999999994|\n",
            "|         Yes|            323.18|\n",
            "|         Yes|1261.3900000000003|\n",
            "|         Yes|1158.2600000000002|\n",
            "|         Yes|            1274.8|\n",
            "|         Yes|             425.6|\n",
            "|         Yes|             32.48|\n",
            "|         Yes|             82.52|\n",
            "|         Yes|             51.36|\n",
            "|         Yes|             24.91|\n",
            "|         Yes|201.89999999999998|\n",
            "|         Yes| 5076.400000000007|\n",
            "|         Yes|202.62000000000003|\n",
            "|         Yes|            120.69|\n",
            "|         Yes|            138.48|\n",
            "|         Yes|            131.13|\n",
            "|         Yes|             78.86|\n",
            "|         Yes|             73.78|\n",
            "|         Yes|           1026.48|\n",
            "|         Yes|55.260000000000005|\n",
            "+------------+------------------+\n",
            "only showing top 20 rows\n",
            "\n"
          ]
        }
      ],
      "source": [
        "#BMI\n",
        "avg_df_9 = \"\"\"\n",
        "SELECT\n",
        "  HeartDisease AS HeartDisease,\n",
        "  sum(BMI) AS BMICount\n",
        "FROM heart_disease\n",
        "WHERE HeartDisease = 'Yes'\n",
        "GROUP BY HeartDisease, BMI\n",
        "\"\"\"\n",
        "\n",
        "spark.sql(avg_df_9).show()\n"
      ]
    },
    {
      "cell_type": "code",
      "execution_count": null,
      "metadata": {
        "id": "Si-BNruRUGK3"
      },
      "outputs": [],
      "source": []
    }
  ],
  "metadata": {
    "colab": {
      "provenance": []
    },
    "gpuClass": "standard",
    "kernelspec": {
      "display_name": "Python 3 (ipykernel)",
      "language": "python",
      "name": "python3"
    },
    "language_info": {
      "codemirror_mode": {
        "name": "ipython",
        "version": 3
      },
      "file_extension": ".py",
      "mimetype": "text/x-python",
      "name": "python",
      "nbconvert_exporter": "python",
      "pygments_lexer": "ipython3",
      "version": "3.9.16"
    },
    "nteract": {
      "version": "0.28.0"
    }
  },
  "nbformat": 4,
  "nbformat_minor": 0
}